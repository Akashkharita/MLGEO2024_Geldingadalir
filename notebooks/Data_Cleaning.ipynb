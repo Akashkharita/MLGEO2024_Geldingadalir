{
 "cells": [
  {
   "cell_type": "markdown",
   "metadata": {},
   "source": [
    "# Basic Data Cleaning and Manipulation #\n",
    "\n",
    "### Task ###\n",
    "Clean the raw data to handle missing values, outliers, or inconsistencies.\n",
    "\n",
    "### Requirements ###\n",
    "\n",
    "Write a script/notebook (scripts/clean_data.py or notebooks/Data_Cleaning.ipynb) that:\n",
    "\n",
    "- Handles missing values (e.g., imputation, removal).\n",
    "- Corrects or removes outliers.\n",
    "- Ensures data consistency (e.g., uniform date formatting, unit conversions).\n",
    "- Saves cleaned data in a new folder (data/clean/).\n",
    "\n"
   ]
  }
 ],
 "metadata": {
  "language_info": {
   "name": "python"
  }
 },
 "nbformat": 4,
 "nbformat_minor": 2
}
