{
 "cells": [
  {
   "cell_type": "markdown",
   "metadata": {},
   "source": [
    "# Data Download and Raw Data Organization #\n",
    "\n",
    "### Task ###\n",
    "Download the raw geoscientific dataset and discuss the basic modalities.\n",
    "\n",
    "### Requirements ###\n",
    "\n",
    "- Store raw data. Ensure that the raw data is stored in a dedicated folder (`data/raw/`).\n",
    "- Document API keys or access credentials. If applicable, document any API keys or access credentials required to obtain the data in the `README.md`.\n",
    "- Describe data modalities and formats\n",
    "- Describe large data archives. If applicable, describe large data archives that can be used for model inference, including their size."
   ]
  }
 ],
 "metadata": {
  "language_info": {
   "name": "python"
  }
 },
 "nbformat": 4,
 "nbformat_minor": 2
}
