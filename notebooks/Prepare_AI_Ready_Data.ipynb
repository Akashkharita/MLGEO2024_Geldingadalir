{
 "cells": [
  {
   "cell_type": "markdown",
   "metadata": {},
   "source": [
    "# Organizing Data into AI-ready format #\n",
    "\n",
    "### Task ### \n",
    "\n",
    "- Prepare the cleaned data for machine learning, ensuring it is properly annotated and structured.\n",
    "\n",
    "### Requirements ###\n",
    "\n",
    "- Convert your data into a format suitable for ML (e.g., pandas DataFrame, NumPy arrays, Xarray).\n",
    "- Ensure the data is well-documented with attributes, labels, and metadata.\n",
    "- Include a notebook (notebooks/Prepare_AI_Ready_Data.ipynb) that clearly describes:\n",
    "  - The final shape of the data (number of samples, features, and target labels).\n",
    "  - A description of each feature/attribute.\n",
    "  - Save the final AI-ready data in a dedicated folder (data/ai_ready/).\n"
   ]
  }
 ],
 "metadata": {
  "kernelspec": {
   "display_name": "mlgeo",
   "language": "python",
   "name": "python3"
  },
  "language_info": {
   "codemirror_mode": {
    "name": "ipython",
    "version": 3
   },
   "file_extension": ".py",
   "mimetype": "text/x-python",
   "name": "python",
   "nbconvert_exporter": "python",
   "pygments_lexer": "ipython3",
   "version": "3.11.10"
  }
 },
 "nbformat": 4,
 "nbformat_minor": 2
}
