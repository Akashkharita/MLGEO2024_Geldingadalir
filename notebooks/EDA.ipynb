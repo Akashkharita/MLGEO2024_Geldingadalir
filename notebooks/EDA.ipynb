{
 "cells": [
  {
   "cell_type": "markdown",
   "metadata": {},
   "source": [
    "# Exploratory Data Analysis (EDA) #\n",
    "\n",
    "### Task ###\n",
    "- Perform a basic exploration of the cleaned data to understand its structure and key characteristics.\n",
    "\n",
    "### Requirements ###\n",
    "\n",
    "- Create a notebook (notebooks/EDA.ipynb) that includes:\n",
    "- Basic summary statistics of the dataset (mean, variance, min, max, etc.).\n",
    "- Visualization of feature distributions (histograms, box plots, etc.).\n",
    "- Correlation analysis between different features and target variables (correlation matrix, heatmaps).\n",
    "- Brief discussion on any patterns or insights observed during the analysis.\n"
   ]
  }
 ],
 "metadata": {
  "kernelspec": {
   "display_name": "mlgeo",
   "language": "python",
   "name": "python3"
  },
  "language_info": {
   "name": "python",
   "version": "3.11.10"
  }
 },
 "nbformat": 4,
 "nbformat_minor": 2
}
